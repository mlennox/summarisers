{
 "cells": [
  {
   "cell_type": "markdown",
   "metadata": {},
   "source": [
    "# Seq2Seq summariser\n",
    "\n",
    "We will be using a Recurrent Neural Network (RNN) to process and encode the content of an article as a sequence of words. This encoding will be passed to a second RNN that will decode the encoded sequence as a second sequence of words.\n",
    "\n",
    "## Word Embedding\n",
    "\n",
    "We need to create a reduced vocabulary word embedding which only uses the embeddings of the words contained in our source material. We will use GloVe \n",
    "\n",
    "Let's "
   ]
  }
 ],
 "metadata": {
  "kernelspec": {
   "display_name": "Python 3",
   "language": "python",
   "name": "python3"
  },
  "language_info": {
   "codemirror_mode": {
    "name": "ipython",
    "version": 3
   },
   "file_extension": ".py",
   "mimetype": "text/x-python",
   "name": "python",
   "nbconvert_exporter": "python",
   "pygments_lexer": "ipython3",
   "version": "3.6.6"
  }
 },
 "nbformat": 4,
 "nbformat_minor": 2
}
